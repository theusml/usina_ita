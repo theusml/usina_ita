{
 "cells": [
  {
   "cell_type": "code",
   "execution_count": 60,
   "metadata": {},
   "outputs": [],
   "source": [
    "# Imports\n",
    "\n",
    "import requests\n",
    "import pandas as pd\n"
   ]
  },
  {
   "cell_type": "code",
   "execution_count": 61,
   "metadata": {},
   "outputs": [],
   "source": [
    "def get_data_as_pandas(name:str):\n",
    "    \n",
    "    name = name.lower()\n",
    "    assert name in ('bimtra', 'cat-62', 'esperas', 'metaf', 'metar', 'satelite', 'tc-prev', 'tc-real')\n",
    "    \n",
    "    #URL da API que você deseja acessar\n",
    "    url = f'http://montreal.icea.decea.mil.br:5002/api/v1/{name}'\n",
    "\n",
    "    #Seu token de autenticação\n",
    "    token = 'a779d04f85c4bf6cfa586d30aaec57c44e9b7173'\n",
    "\n",
    "    #Realize a requisição GET\n",
    "    response = requests.get(url=url,params={'token':token, 'idate':'2022-06-01', 'fdate':'2023-01-01'})\n",
    "    assert response.status_code == 200\n",
    "\n",
    "    res = response.json()\n",
    "\n",
    "    return pd.DataFrame(res)"
   ]
  },
  {
   "cell_type": "markdown",
   "metadata": {},
   "source": [
    "# BIMTRA_train"
   ]
  },
  {
   "cell_type": "code",
   "execution_count": 62,
   "metadata": {},
   "outputs": [
    {
     "data": {
      "text/html": [
       "<div>\n",
       "<style scoped>\n",
       "    .dataframe tbody tr th:only-of-type {\n",
       "        vertical-align: middle;\n",
       "    }\n",
       "\n",
       "    .dataframe tbody tr th {\n",
       "        vertical-align: top;\n",
       "    }\n",
       "\n",
       "    .dataframe thead th {\n",
       "        text-align: right;\n",
       "    }\n",
       "</style>\n",
       "<table border=\"1\" class=\"dataframe\">\n",
       "  <thead>\n",
       "    <tr style=\"text-align: right;\">\n",
       "      <th></th>\n",
       "      <th>flightid</th>\n",
       "      <th>origem</th>\n",
       "      <th>destino</th>\n",
       "      <th>dt_dep</th>\n",
       "      <th>dt_arr</th>\n",
       "    </tr>\n",
       "  </thead>\n",
       "  <tbody>\n",
       "    <tr>\n",
       "      <th>144249</th>\n",
       "      <td>5f415467f7faeda05e733cc4016327b6</td>\n",
       "      <td>SBGR</td>\n",
       "      <td>SBFL</td>\n",
       "      <td>1669540803000</td>\n",
       "      <td>1669543849000</td>\n",
       "    </tr>\n",
       "    <tr>\n",
       "      <th>69612</th>\n",
       "      <td>0100476c78f476fe854e68b35ea7b71f</td>\n",
       "      <td>SBBR</td>\n",
       "      <td>SBGR</td>\n",
       "      <td>1661680553000</td>\n",
       "      <td>1661685000000</td>\n",
       "    </tr>\n",
       "  </tbody>\n",
       "</table>\n",
       "</div>"
      ],
      "text/plain": [
       "                                flightid origem destino         dt_dep  \\\n",
       "144249  5f415467f7faeda05e733cc4016327b6   SBGR    SBFL  1669540803000   \n",
       "69612   0100476c78f476fe854e68b35ea7b71f   SBBR    SBGR  1661680553000   \n",
       "\n",
       "               dt_arr  \n",
       "144249  1669543849000  \n",
       "69612   1661685000000  "
      ]
     },
     "execution_count": 62,
     "metadata": {},
     "output_type": "execute_result"
    }
   ],
   "source": [
    "# Principal\n",
    "BIMTRA_train = get_data_as_pandas('bimtra')\n",
    "BIMTRA_train.to_parquet(r'..\\dados\\BIMTRA_train.parquet', index=False)\n",
    "BIMTRA_train.sample(2)"
   ]
  },
  {
   "cell_type": "code",
   "execution_count": 63,
   "metadata": {},
   "outputs": [
    {
     "ename": "AssertionError",
     "evalue": "",
     "output_type": "error",
     "traceback": [
      "\u001b[1;31m---------------------------------------------------------------------------\u001b[0m",
      "\u001b[1;31mAssertionError\u001b[0m                            Traceback (most recent call last)",
      "\u001b[1;32mc:\\Users\\mathe\\OneDrive\\Área de Trabalho\\SCRIO\\USINA\\USINA_ITA\\lotufom\\baixa_bases.ipynb Cell 5\u001b[0m line \u001b[0;36m1\n\u001b[1;32m----> <a href='vscode-notebook-cell:/c%3A/Users/mathe/OneDrive/%C3%81rea%20de%20Trabalho/SCRIO/USINA/USINA_ITA/lotufom/baixa_bases.ipynb#X16sZmlsZQ%3D%3D?line=0'>1</a>\u001b[0m CAT62_train \u001b[39m=\u001b[39m get_data_as_pandas(\u001b[39m'\u001b[39;49m\u001b[39mcat-62\u001b[39;49m\u001b[39m'\u001b[39;49m)\n\u001b[0;32m      <a href='vscode-notebook-cell:/c%3A/Users/mathe/OneDrive/%C3%81rea%20de%20Trabalho/SCRIO/USINA/USINA_ITA/lotufom/baixa_bases.ipynb#X16sZmlsZQ%3D%3D?line=1'>2</a>\u001b[0m CAT62_train\u001b[39m.\u001b[39mto_parquet(\u001b[39mr\u001b[39m\u001b[39m'\u001b[39m\u001b[39m..\u001b[39m\u001b[39m\\\u001b[39m\u001b[39mdados\u001b[39m\u001b[39m\\\u001b[39m\u001b[39mCAT62_train.parquet\u001b[39m\u001b[39m'\u001b[39m, index\u001b[39m=\u001b[39m\u001b[39mFalse\u001b[39;00m)\n\u001b[0;32m      <a href='vscode-notebook-cell:/c%3A/Users/mathe/OneDrive/%C3%81rea%20de%20Trabalho/SCRIO/USINA/USINA_ITA/lotufom/baixa_bases.ipynb#X16sZmlsZQ%3D%3D?line=2'>3</a>\u001b[0m CAT62_train\u001b[39m.\u001b[39msample(\u001b[39m2\u001b[39m)\n",
      "\u001b[1;32mc:\\Users\\mathe\\OneDrive\\Área de Trabalho\\SCRIO\\USINA\\USINA_ITA\\lotufom\\baixa_bases.ipynb Cell 5\u001b[0m line \u001b[0;36m1\n\u001b[0;32m     <a href='vscode-notebook-cell:/c%3A/Users/mathe/OneDrive/%C3%81rea%20de%20Trabalho/SCRIO/USINA/USINA_ITA/lotufom/baixa_bases.ipynb#X16sZmlsZQ%3D%3D?line=11'>12</a>\u001b[0m \u001b[39m#Realize a requisição GET\u001b[39;00m\n\u001b[0;32m     <a href='vscode-notebook-cell:/c%3A/Users/mathe/OneDrive/%C3%81rea%20de%20Trabalho/SCRIO/USINA/USINA_ITA/lotufom/baixa_bases.ipynb#X16sZmlsZQ%3D%3D?line=12'>13</a>\u001b[0m response \u001b[39m=\u001b[39m requests\u001b[39m.\u001b[39mget(url\u001b[39m=\u001b[39murl,params\u001b[39m=\u001b[39m{\u001b[39m'\u001b[39m\u001b[39mtoken\u001b[39m\u001b[39m'\u001b[39m:token, \u001b[39m'\u001b[39m\u001b[39midate\u001b[39m\u001b[39m'\u001b[39m:\u001b[39m'\u001b[39m\u001b[39m2022-06-01\u001b[39m\u001b[39m'\u001b[39m, \u001b[39m'\u001b[39m\u001b[39mfdate\u001b[39m\u001b[39m'\u001b[39m:\u001b[39m'\u001b[39m\u001b[39m2023-01-01\u001b[39m\u001b[39m'\u001b[39m})\n\u001b[1;32m---> <a href='vscode-notebook-cell:/c%3A/Users/mathe/OneDrive/%C3%81rea%20de%20Trabalho/SCRIO/USINA/USINA_ITA/lotufom/baixa_bases.ipynb#X16sZmlsZQ%3D%3D?line=13'>14</a>\u001b[0m \u001b[39massert\u001b[39;00m response\u001b[39m.\u001b[39mstatus_code \u001b[39m==\u001b[39m \u001b[39m200\u001b[39m\n\u001b[0;32m     <a href='vscode-notebook-cell:/c%3A/Users/mathe/OneDrive/%C3%81rea%20de%20Trabalho/SCRIO/USINA/USINA_ITA/lotufom/baixa_bases.ipynb#X16sZmlsZQ%3D%3D?line=15'>16</a>\u001b[0m res \u001b[39m=\u001b[39m response\u001b[39m.\u001b[39mjson()\n\u001b[0;32m     <a href='vscode-notebook-cell:/c%3A/Users/mathe/OneDrive/%C3%81rea%20de%20Trabalho/SCRIO/USINA/USINA_ITA/lotufom/baixa_bases.ipynb#X16sZmlsZQ%3D%3D?line=17'>18</a>\u001b[0m \u001b[39mreturn\u001b[39;00m pd\u001b[39m.\u001b[39mDataFrame(res)\n",
      "\u001b[1;31mAssertionError\u001b[0m: "
     ]
    }
   ],
   "source": [
    "CAT62_train = get_data_as_pandas('cat-62')\n",
    "CAT62_train.to_parquet(r'..\\dados\\CAT62_train.parquet', index=False)\n",
    "CAT62_train.sample(2)"
   ]
  },
  {
   "cell_type": "code",
   "execution_count": 64,
   "metadata": {},
   "outputs": [
    {
     "data": {
      "text/html": [
       "<div>\n",
       "<style scoped>\n",
       "    .dataframe tbody tr th:only-of-type {\n",
       "        vertical-align: middle;\n",
       "    }\n",
       "\n",
       "    .dataframe tbody tr th {\n",
       "        vertical-align: top;\n",
       "    }\n",
       "\n",
       "    .dataframe thead th {\n",
       "        text-align: right;\n",
       "    }\n",
       "</style>\n",
       "<table border=\"1\" class=\"dataframe\">\n",
       "  <thead>\n",
       "    <tr style=\"text-align: right;\">\n",
       "      <th></th>\n",
       "      <th>esperas</th>\n",
       "      <th>hora</th>\n",
       "      <th>aero</th>\n",
       "    </tr>\n",
       "  </thead>\n",
       "  <tbody>\n",
       "    <tr>\n",
       "      <th>38735</th>\n",
       "      <td>0</td>\n",
       "      <td>1663455600000</td>\n",
       "      <td>SBPA</td>\n",
       "    </tr>\n",
       "    <tr>\n",
       "      <th>44334</th>\n",
       "      <td>0</td>\n",
       "      <td>1665036000000</td>\n",
       "      <td>SBRF</td>\n",
       "    </tr>\n",
       "  </tbody>\n",
       "</table>\n",
       "</div>"
      ],
      "text/plain": [
       "       esperas           hora  aero\n",
       "38735        0  1663455600000  SBPA\n",
       "44334        0  1665036000000  SBRF"
      ]
     },
     "execution_count": 64,
     "metadata": {},
     "output_type": "execute_result"
    }
   ],
   "source": [
    "# Dados de Quantidades de Esperas em voo por hora\n",
    "ESPERAS_train = get_data_as_pandas('esperas')\n",
    "ESPERAS_train.to_parquet(r'..\\dados\\ESPERAS_train.parquet', index=False)\n",
    "ESPERAS_train.sample(2)"
   ]
  },
  {
   "cell_type": "code",
   "execution_count": 65,
   "metadata": {},
   "outputs": [
    {
     "data": {
      "text/html": [
       "<div>\n",
       "<style scoped>\n",
       "    .dataframe tbody tr th:only-of-type {\n",
       "        vertical-align: middle;\n",
       "    }\n",
       "\n",
       "    .dataframe tbody tr th {\n",
       "        vertical-align: top;\n",
       "    }\n",
       "\n",
       "    .dataframe thead th {\n",
       "        text-align: right;\n",
       "    }\n",
       "</style>\n",
       "<table border=\"1\" class=\"dataframe\">\n",
       "  <thead>\n",
       "    <tr style=\"text-align: right;\">\n",
       "      <th></th>\n",
       "      <th>hora</th>\n",
       "      <th>metaf</th>\n",
       "      <th>aero</th>\n",
       "    </tr>\n",
       "  </thead>\n",
       "  <tbody>\n",
       "    <tr>\n",
       "      <th>3749</th>\n",
       "      <td>1654614000000</td>\n",
       "      <td>METAF SBGL 071500Z 09003KT CAVOK 23/16 Q1012=\\n</td>\n",
       "      <td>SBGL</td>\n",
       "    </tr>\n",
       "    <tr>\n",
       "      <th>8903</th>\n",
       "      <td>1656622800000</td>\n",
       "      <td>METAF SBGR 302100Z  27005KT CAVOK 16/07 Q1018=\\n</td>\n",
       "      <td>SBGR</td>\n",
       "    </tr>\n",
       "  </tbody>\n",
       "</table>\n",
       "</div>"
      ],
      "text/plain": [
       "               hora                                             metaf  aero\n",
       "3749  1654614000000   METAF SBGL 071500Z 09003KT CAVOK 23/16 Q1012=\\n  SBGL\n",
       "8903  1656622800000  METAF SBGR 302100Z  27005KT CAVOK 16/07 Q1018=\\n  SBGR"
      ]
     },
     "execution_count": 65,
     "metadata": {},
     "output_type": "execute_result"
    }
   ],
   "source": [
    "# Previsão de Dados Meteorológicos em Aeródromos\n",
    "METAF_train = get_data_as_pandas('metaf')\n",
    "METAF_train.to_parquet(r'..\\dados\\METAF_train.parquet', index=False)\n",
    "METAF_train.sample(2)"
   ]
  },
  {
   "cell_type": "code",
   "execution_count": 66,
   "metadata": {},
   "outputs": [
    {
     "data": {
      "text/html": [
       "<div>\n",
       "<style scoped>\n",
       "    .dataframe tbody tr th:only-of-type {\n",
       "        vertical-align: middle;\n",
       "    }\n",
       "\n",
       "    .dataframe tbody tr th {\n",
       "        vertical-align: top;\n",
       "    }\n",
       "\n",
       "    .dataframe thead th {\n",
       "        text-align: right;\n",
       "    }\n",
       "</style>\n",
       "<table border=\"1\" class=\"dataframe\">\n",
       "  <thead>\n",
       "    <tr style=\"text-align: right;\">\n",
       "      <th></th>\n",
       "      <th>hora</th>\n",
       "      <th>metar</th>\n",
       "      <th>aero</th>\n",
       "    </tr>\n",
       "  </thead>\n",
       "  <tbody>\n",
       "    <tr>\n",
       "      <th>11641</th>\n",
       "      <td>1657414800000</td>\n",
       "      <td>METAR SBCT 100100Z 11002KT 0600 R33/1000 R15/1...</td>\n",
       "      <td>SBCT</td>\n",
       "    </tr>\n",
       "    <tr>\n",
       "      <th>19393</th>\n",
       "      <td>1665309600000</td>\n",
       "      <td>METAR SBFL 091000Z 20015KT 9999 SCT020 18/17 Q...</td>\n",
       "      <td>SBFL</td>\n",
       "    </tr>\n",
       "  </tbody>\n",
       "</table>\n",
       "</div>"
      ],
      "text/plain": [
       "                hora                                              metar  aero\n",
       "11641  1657414800000  METAR SBCT 100100Z 11002KT 0600 R33/1000 R15/1...  SBCT\n",
       "19393  1665309600000  METAR SBFL 091000Z 20015KT 9999 SCT020 18/17 Q...  SBFL"
      ]
     },
     "execution_count": 66,
     "metadata": {},
     "output_type": "execute_result"
    }
   ],
   "source": [
    "# Relatório de Dados Meteorológicos em Aeródromos\n",
    "METAR_train = get_data_as_pandas('metar')\n",
    "METAR_train.to_parquet(r'..\\dados\\METAR_train.parquet', index=False)\n",
    "METAR_train.sample(2)"
   ]
  },
  {
   "cell_type": "code",
   "execution_count": 67,
   "metadata": {},
   "outputs": [
    {
     "data": {
      "text/html": [
       "<div>\n",
       "<style scoped>\n",
       "    .dataframe tbody tr th:only-of-type {\n",
       "        vertical-align: middle;\n",
       "    }\n",
       "\n",
       "    .dataframe tbody tr th {\n",
       "        vertical-align: top;\n",
       "    }\n",
       "\n",
       "    .dataframe thead th {\n",
       "        text-align: right;\n",
       "    }\n",
       "</style>\n",
       "<table border=\"1\" class=\"dataframe\">\n",
       "  <thead>\n",
       "    <tr style=\"text-align: right;\">\n",
       "      <th></th>\n",
       "      <th>data</th>\n",
       "      <th>path</th>\n",
       "      <th>tamanho</th>\n",
       "    </tr>\n",
       "  </thead>\n",
       "  <tbody>\n",
       "    <tr>\n",
       "      <th>206</th>\n",
       "      <td>2022-06-09 18:00:00</td>\n",
       "      <td>http://satelite.cptec.inpe.br/repositoriogoes/...</td>\n",
       "      <td>1893688</td>\n",
       "    </tr>\n",
       "    <tr>\n",
       "      <th>296</th>\n",
       "      <td>2022-06-13 12:00:00</td>\n",
       "      <td>http://satelite.cptec.inpe.br/repositoriogoes/...</td>\n",
       "      <td>1720489</td>\n",
       "    </tr>\n",
       "  </tbody>\n",
       "</table>\n",
       "</div>"
      ],
      "text/plain": [
       "                    data                                               path  \\\n",
       "206  2022-06-09 18:00:00  http://satelite.cptec.inpe.br/repositoriogoes/...   \n",
       "296  2022-06-13 12:00:00  http://satelite.cptec.inpe.br/repositoriogoes/...   \n",
       "\n",
       "     tamanho  \n",
       "206  1893688  \n",
       "296  1720489  "
      ]
     },
     "execution_count": 67,
     "metadata": {},
     "output_type": "execute_result"
    }
   ],
   "source": [
    "# Satélite Meteorológico\n",
    "SATELITE_train = get_data_as_pandas('satelite')\n",
    "SATELITE_train.to_parquet(r'..\\dados\\SATELITE_train.parquet', index=False)\n",
    "SATELITE_train.sample(2)"
   ]
  },
  {
   "cell_type": "code",
   "execution_count": 68,
   "metadata": {},
   "outputs": [
    {
     "data": {
      "text/html": [
       "<div>\n",
       "<style scoped>\n",
       "    .dataframe tbody tr th:only-of-type {\n",
       "        vertical-align: middle;\n",
       "    }\n",
       "\n",
       "    .dataframe tbody tr th {\n",
       "        vertical-align: top;\n",
       "    }\n",
       "\n",
       "    .dataframe thead th {\n",
       "        text-align: right;\n",
       "    }\n",
       "</style>\n",
       "<table border=\"1\" class=\"dataframe\">\n",
       "  <thead>\n",
       "    <tr style=\"text-align: right;\">\n",
       "      <th></th>\n",
       "      <th>hora</th>\n",
       "      <th>troca</th>\n",
       "      <th>aero</th>\n",
       "    </tr>\n",
       "  </thead>\n",
       "  <tbody>\n",
       "    <tr>\n",
       "      <th>13768</th>\n",
       "      <td>1666454400000</td>\n",
       "      <td>1</td>\n",
       "      <td>CT</td>\n",
       "    </tr>\n",
       "    <tr>\n",
       "      <th>25887</th>\n",
       "      <td>1654354800000</td>\n",
       "      <td>0</td>\n",
       "      <td>GR</td>\n",
       "    </tr>\n",
       "  </tbody>\n",
       "</table>\n",
       "</div>"
      ],
      "text/plain": [
       "                hora  troca aero\n",
       "13768  1666454400000      1   CT\n",
       "25887  1654354800000      0   GR"
      ]
     },
     "execution_count": 68,
     "metadata": {},
     "output_type": "execute_result"
    }
   ],
   "source": [
    "# Previsão de Troca de Cabeceiras de Pista\n",
    "TC_PREV_train = get_data_as_pandas('tc-prev')\n",
    "TC_PREV_train.to_parquet(r'..\\dados\\TC_PREV_train.parquet', index=False)\n",
    "TC_PREV_train.sample(2)"
   ]
  },
  {
   "cell_type": "code",
   "execution_count": 69,
   "metadata": {},
   "outputs": [
    {
     "data": {
      "text/html": [
       "<div>\n",
       "<style scoped>\n",
       "    .dataframe tbody tr th:only-of-type {\n",
       "        vertical-align: middle;\n",
       "    }\n",
       "\n",
       "    .dataframe tbody tr th {\n",
       "        vertical-align: top;\n",
       "    }\n",
       "\n",
       "    .dataframe thead th {\n",
       "        text-align: right;\n",
       "    }\n",
       "</style>\n",
       "<table border=\"1\" class=\"dataframe\">\n",
       "  <thead>\n",
       "    <tr style=\"text-align: right;\">\n",
       "      <th></th>\n",
       "      <th>hora</th>\n",
       "      <th>nova_cabeceira</th>\n",
       "      <th>antiga_cabeceira</th>\n",
       "      <th>aero</th>\n",
       "    </tr>\n",
       "  </thead>\n",
       "  <tbody>\n",
       "    <tr>\n",
       "      <th>15443</th>\n",
       "      <td>1667503445000</td>\n",
       "      <td>17</td>\n",
       "      <td>28</td>\n",
       "      <td>SV</td>\n",
       "    </tr>\n",
       "    <tr>\n",
       "      <th>1243</th>\n",
       "      <td>1655226594000</td>\n",
       "      <td>15</td>\n",
       "      <td>33</td>\n",
       "      <td>KP</td>\n",
       "    </tr>\n",
       "  </tbody>\n",
       "</table>\n",
       "</div>"
      ],
      "text/plain": [
       "                hora nova_cabeceira antiga_cabeceira aero\n",
       "15443  1667503445000             17               28   SV\n",
       "1243   1655226594000             15               33   KP"
      ]
     },
     "execution_count": 69,
     "metadata": {},
     "output_type": "execute_result"
    }
   ],
   "source": [
    "# Previsão de Troca de Cabeceiras de Pista\n",
    "TC_REAL_train = get_data_as_pandas('tc-real')\n",
    "TC_REAL_train.to_parquet(r'..\\dados\\TC_REAL_train.parquet', index=False)\n",
    "TC_REAL_train.sample(2)"
   ]
  },
  {
   "cell_type": "code",
   "execution_count": 70,
   "metadata": {},
   "outputs": [
    {
     "data": {
      "text/html": [
       "<div>\n",
       "<style scoped>\n",
       "    .dataframe tbody tr th:only-of-type {\n",
       "        vertical-align: middle;\n",
       "    }\n",
       "\n",
       "    .dataframe tbody tr th {\n",
       "        vertical-align: top;\n",
       "    }\n",
       "\n",
       "    .dataframe thead th {\n",
       "        text-align: right;\n",
       "    }\n",
       "</style>\n",
       "<table border=\"1\" class=\"dataframe\">\n",
       "  <thead>\n",
       "    <tr style=\"text-align: right;\">\n",
       "      <th></th>\n",
       "      <th>flightid</th>\n",
       "      <th>origem</th>\n",
       "      <th>destino</th>\n",
       "      <th>dt_dep</th>\n",
       "      <th>dt_arr</th>\n",
       "    </tr>\n",
       "  </thead>\n",
       "  <tbody>\n",
       "    <tr>\n",
       "      <th>0</th>\n",
       "      <td>fcb2bf90345705318213ae1307c0f901</td>\n",
       "      <td>SBKP</td>\n",
       "      <td>SBRJ</td>\n",
       "      <td>2022-06-01 00:44:57</td>\n",
       "      <td>2022-06-01 01:26:00</td>\n",
       "    </tr>\n",
       "    <tr>\n",
       "      <th>1</th>\n",
       "      <td>c7c5c10716335b048f86d8c52fcba3f2</td>\n",
       "      <td>SBGR</td>\n",
       "      <td>SBRJ</td>\n",
       "      <td>2022-06-01 00:57:01</td>\n",
       "      <td>2022-06-01 01:32:53</td>\n",
       "    </tr>\n",
       "    <tr>\n",
       "      <th>2</th>\n",
       "      <td>3162de7203a972f071d5a48e8f0f4828</td>\n",
       "      <td>SBBR</td>\n",
       "      <td>SBRJ</td>\n",
       "      <td>2022-06-01 00:26:52</td>\n",
       "      <td>2022-06-01 01:43:45</td>\n",
       "    </tr>\n",
       "    <tr>\n",
       "      <th>3</th>\n",
       "      <td>8fcd243e9b9eebbe62ab145ce04b6ab5</td>\n",
       "      <td>SBKP</td>\n",
       "      <td>SBCF</td>\n",
       "      <td>2022-06-01 00:58:40</td>\n",
       "      <td>2022-06-01 01:41:41</td>\n",
       "    </tr>\n",
       "    <tr>\n",
       "      <th>4</th>\n",
       "      <td>504a62621cd231d6ab67e674ce538cd3</td>\n",
       "      <td>SBCF</td>\n",
       "      <td>SBFL</td>\n",
       "      <td>2022-06-01 01:00:38</td>\n",
       "      <td>2022-06-01 02:33:05</td>\n",
       "    </tr>\n",
       "  </tbody>\n",
       "</table>\n",
       "</div>"
      ],
      "text/plain": [
       "                           flightid origem destino              dt_dep  \\\n",
       "0  fcb2bf90345705318213ae1307c0f901   SBKP    SBRJ 2022-06-01 00:44:57   \n",
       "1  c7c5c10716335b048f86d8c52fcba3f2   SBGR    SBRJ 2022-06-01 00:57:01   \n",
       "2  3162de7203a972f071d5a48e8f0f4828   SBBR    SBRJ 2022-06-01 00:26:52   \n",
       "3  8fcd243e9b9eebbe62ab145ce04b6ab5   SBKP    SBCF 2022-06-01 00:58:40   \n",
       "4  504a62621cd231d6ab67e674ce538cd3   SBCF    SBFL 2022-06-01 01:00:38   \n",
       "\n",
       "               dt_arr  \n",
       "0 2022-06-01 01:26:00  \n",
       "1 2022-06-01 01:32:53  \n",
       "2 2022-06-01 01:43:45  \n",
       "3 2022-06-01 01:41:41  \n",
       "4 2022-06-01 02:33:05  "
      ]
     },
     "execution_count": 70,
     "metadata": {},
     "output_type": "execute_result"
    }
   ],
   "source": [
    "# Tive que divir por 1000, pois tinhamos 3 zeros a mais no final do timestamp. Provavel para datas futuras.\n",
    "\n",
    "BIMTRA_train.dt_dep = pd.to_datetime(BIMTRA_train.dt_dep/1000, unit='s')\n",
    "BIMTRA_train.dt_arr = pd.to_datetime(BIMTRA_train.dt_arr/1000, unit='s')\n",
    "BIMTRA_train.head()"
   ]
  },
  {
   "cell_type": "code",
   "execution_count": 71,
   "metadata": {},
   "outputs": [
    {
     "data": {
      "text/html": [
       "<div>\n",
       "<style scoped>\n",
       "    .dataframe tbody tr th:only-of-type {\n",
       "        vertical-align: middle;\n",
       "    }\n",
       "\n",
       "    .dataframe tbody tr th {\n",
       "        vertical-align: top;\n",
       "    }\n",
       "\n",
       "    .dataframe thead th {\n",
       "        text-align: right;\n",
       "    }\n",
       "</style>\n",
       "<table border=\"1\" class=\"dataframe\">\n",
       "  <thead>\n",
       "    <tr style=\"text-align: right;\">\n",
       "      <th></th>\n",
       "      <th>flightid</th>\n",
       "      <th>origem</th>\n",
       "      <th>destino</th>\n",
       "      <th>dt_dep</th>\n",
       "      <th>dt_arr</th>\n",
       "    </tr>\n",
       "  </thead>\n",
       "  <tbody>\n",
       "    <tr>\n",
       "      <th>51</th>\n",
       "      <td>6df4c739f0c1b84ae570460e2de19cfc</td>\n",
       "      <td>SBRJ</td>\n",
       "      <td>SBSP</td>\n",
       "      <td>2022-06-01 00:00:46</td>\n",
       "      <td>2022-06-01 00:50:45</td>\n",
       "    </tr>\n",
       "  </tbody>\n",
       "</table>\n",
       "</div>"
      ],
      "text/plain": [
       "                            flightid origem destino              dt_dep  \\\n",
       "51  6df4c739f0c1b84ae570460e2de19cfc   SBRJ    SBSP 2022-06-01 00:00:46   \n",
       "\n",
       "                dt_arr  \n",
       "51 2022-06-01 00:50:45  "
      ]
     },
     "execution_count": 71,
     "metadata": {},
     "output_type": "execute_result"
    }
   ],
   "source": [
    "BIMTRA_train[BIMTRA_train.dt_dep== BIMTRA_train.dt_dep.min()]"
   ]
  },
  {
   "cell_type": "code",
   "execution_count": null,
   "metadata": {},
   "outputs": [],
   "source": []
  }
 ],
 "metadata": {
  "kernelspec": {
   "display_name": "Python 3",
   "language": "python",
   "name": "python3"
  },
  "language_info": {
   "codemirror_mode": {
    "name": "ipython",
    "version": 3
   },
   "file_extension": ".py",
   "mimetype": "text/x-python",
   "name": "python",
   "nbconvert_exporter": "python",
   "pygments_lexer": "ipython3",
   "version": "3.11.2"
  },
  "orig_nbformat": 4
 },
 "nbformat": 4,
 "nbformat_minor": 2
}
